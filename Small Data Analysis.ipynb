{
 "cells": [
  {
   "cell_type": "markdown",
   "id": "9ceffe3a",
   "metadata": {},
   "source": [
    "## Importing the Data"
   ]
  },
  {
   "cell_type": "code",
   "execution_count": 3,
   "id": "429a5a68",
   "metadata": {},
   "outputs": [],
   "source": [
    "import pandas as pd\n",
    "import numpy as np"
   ]
  },
  {
   "cell_type": "code",
   "execution_count": 43,
   "id": "1a7de0ae",
   "metadata": {},
   "outputs": [],
   "source": [
    "df = pd.read_excel(\"../Data Science Discovery/random_subset_data.xlsx\")"
   ]
  },
  {
   "cell_type": "code",
   "execution_count": 44,
   "id": "4aeff75c",
   "metadata": {},
   "outputs": [],
   "source": [
    "df_all = df_all.drop(['Unnamed: 0'], axis=1)"
   ]
  },
  {
   "cell_type": "code",
   "execution_count": 33,
   "id": "759ebb1f",
   "metadata": {},
   "outputs": [],
   "source": [
    "df_all = df[df['Does COIS include a conflict? (0=no conflict, 1=conflict)'].notnull()]"
   ]
  },
  {
   "cell_type": "code",
   "execution_count": 45,
   "id": "8c2f0b31",
   "metadata": {},
   "outputs": [
    {
     "data": {
      "text/html": [
       "<div>\n",
       "<style scoped>\n",
       "    .dataframe tbody tr th:only-of-type {\n",
       "        vertical-align: middle;\n",
       "    }\n",
       "\n",
       "    .dataframe tbody tr th {\n",
       "        vertical-align: top;\n",
       "    }\n",
       "\n",
       "    .dataframe thead th {\n",
       "        text-align: right;\n",
       "    }\n",
       "</style>\n",
       "<table border=\"1\" class=\"dataframe\">\n",
       "  <thead>\n",
       "    <tr style=\"text-align: right;\">\n",
       "      <th></th>\n",
       "      <th>PMID</th>\n",
       "      <th>TI</th>\n",
       "      <th>AB</th>\n",
       "      <th>AD</th>\n",
       "      <th>AID</th>\n",
       "      <th>AU</th>\n",
       "      <th>AUID</th>\n",
       "      <th>FAU</th>\n",
       "      <th>Does COIS include a conflict? (0=no conflict, 1=conflict)</th>\n",
       "      <th>COIS</th>\n",
       "      <th>DEP</th>\n",
       "      <th>DP</th>\n",
       "      <th>JT</th>\n",
       "      <th>PMC</th>\n",
       "    </tr>\n",
       "  </thead>\n",
       "  <tbody>\n",
       "    <tr>\n",
       "      <th>0</th>\n",
       "      <td>34688545.0</td>\n",
       "      <td>The importance of evaluating differences in HE...</td>\n",
       "      <td>NaN</td>\n",
       "      <td>Canadian Blood Services, Ottawa, Ontario, Cana...</td>\n",
       "      <td>S1465-3249(21)00786-6 [pii];10.1016/j.jcyt.202...</td>\n",
       "      <td>Halpenny M;William N;Elmoazzen H;Giulivi A;Mar...</td>\n",
       "      <td>NaN</td>\n",
       "      <td>Halpenny, Michael;William, Nishaka;Elmoazzen, ...</td>\n",
       "      <td>0.0</td>\n",
       "      <td>Declaration of Competing Interest The authors ...</td>\n",
       "      <td>20211028.0</td>\n",
       "      <td>2022-03-01 00:00:00</td>\n",
       "      <td>Cytotherapy</td>\n",
       "      <td>NaN</td>\n",
       "    </tr>\n",
       "    <tr>\n",
       "      <th>1</th>\n",
       "      <td>35400747.0</td>\n",
       "      <td>Syphilis presenting as late-onset psychosis.</td>\n",
       "      <td>NaN</td>\n",
       "      <td>Department of Psychiatry, Lokopriya Gopinath B...</td>\n",
       "      <td>10.4103/indianjpsychiatry.indianjpsychiatry_31...</td>\n",
       "      <td>Das S;Mukherjee S;Pathak K</td>\n",
       "      <td>NaN</td>\n",
       "      <td>Das, Suhasini;Mukherjee, Sukriti;Pathak, Kangkan</td>\n",
       "      <td>0.0</td>\n",
       "      <td>There are no conflicts of interest.</td>\n",
       "      <td>20220121.0</td>\n",
       "      <td>2022 Jan-Feb</td>\n",
       "      <td>Indian journal of psychiatry</td>\n",
       "      <td>PMC8992757</td>\n",
       "    </tr>\n",
       "    <tr>\n",
       "      <th>2</th>\n",
       "      <td>35199073.0</td>\n",
       "      <td>Out-of-hospital cardiac arrests and bystander ...</td>\n",
       "      <td>BACKGROUND &amp; AIM: Bystander response to out-of...</td>\n",
       "      <td>Westmead Applied Research Centre, Faculty of M...</td>\n",
       "      <td>10.1016/j.resplu.2022.100205 [doi];S2666-5204(...</td>\n",
       "      <td>Munot S;Rugel EJ;Von Huben A;Marschner S;Redfe...</td>\n",
       "      <td>NaN</td>\n",
       "      <td>Munot, Sonali;Rugel, Emily J;Von Huben, Amy;Ma...</td>\n",
       "      <td>0.0</td>\n",
       "      <td>The authors declare that they have no known co...</td>\n",
       "      <td>20220206.0</td>\n",
       "      <td>2022-03-01 00:00:00</td>\n",
       "      <td>Resuscitation plus</td>\n",
       "      <td>PMC8844775</td>\n",
       "    </tr>\n",
       "    <tr>\n",
       "      <th>3</th>\n",
       "      <td>35728485.0</td>\n",
       "      <td>Investigation of metabolomic biomarkers for ch...</td>\n",
       "      <td>BACKGROUND: Few studies have investigated mole...</td>\n",
       "      <td>Singapore Institute for Clinical Sciences (SIC...</td>\n",
       "      <td>S2352-3964(22)00292-4 [pii];10.1016/j.ebiom.20...</td>\n",
       "      <td>Huang J;Law E;Karaman I;McCrickerd K;Fogel A;C...</td>\n",
       "      <td>NaN</td>\n",
       "      <td>Huang, Jian;Law, Evelyn;Karaman, Ibrahim;McCri...</td>\n",
       "      <td>0.0</td>\n",
       "      <td>Declaration of interests The authors disclose ...</td>\n",
       "      <td>20220618.0</td>\n",
       "      <td>2022-07-01 00:00:00</td>\n",
       "      <td>EBioMedicine</td>\n",
       "      <td>PMC9214799</td>\n",
       "    </tr>\n",
       "    <tr>\n",
       "      <th>4</th>\n",
       "      <td>35615459.0</td>\n",
       "      <td>Gel-Based Autologous Chondrocyte Implantation ...</td>\n",
       "      <td>Osteochondritis dissecans (OCD) is a disorder ...</td>\n",
       "      <td>Deliwala Arthroscopy &amp; Sports Injury Center, B...</td>\n",
       "      <td>10.1155/2022/6946860 [doi]</td>\n",
       "      <td>Deliwala U;Sethia SJ</td>\n",
       "      <td>ORCID: https://orcid.org/0000-0003-1226-4380</td>\n",
       "      <td>Deliwala, Ujjval;Sethia, Sumit Jain</td>\n",
       "      <td>0.0</td>\n",
       "      <td>The authors declare no conflict of interest fo...</td>\n",
       "      <td>20220516.0</td>\n",
       "      <td>2022.0</td>\n",
       "      <td>Case reports in orthopedics</td>\n",
       "      <td>PMC9126717</td>\n",
       "    </tr>\n",
       "  </tbody>\n",
       "</table>\n",
       "</div>"
      ],
      "text/plain": [
       "         PMID                                                 TI  \\\n",
       "0  34688545.0  The importance of evaluating differences in HE...   \n",
       "1  35400747.0       Syphilis presenting as late-onset psychosis.   \n",
       "2  35199073.0  Out-of-hospital cardiac arrests and bystander ...   \n",
       "3  35728485.0  Investigation of metabolomic biomarkers for ch...   \n",
       "4  35615459.0  Gel-Based Autologous Chondrocyte Implantation ...   \n",
       "\n",
       "                                                  AB  \\\n",
       "0                                                NaN   \n",
       "1                                                NaN   \n",
       "2  BACKGROUND & AIM: Bystander response to out-of...   \n",
       "3  BACKGROUND: Few studies have investigated mole...   \n",
       "4  Osteochondritis dissecans (OCD) is a disorder ...   \n",
       "\n",
       "                                                  AD  \\\n",
       "0  Canadian Blood Services, Ottawa, Ontario, Cana...   \n",
       "1  Department of Psychiatry, Lokopriya Gopinath B...   \n",
       "2  Westmead Applied Research Centre, Faculty of M...   \n",
       "3  Singapore Institute for Clinical Sciences (SIC...   \n",
       "4  Deliwala Arthroscopy & Sports Injury Center, B...   \n",
       "\n",
       "                                                 AID  \\\n",
       "0  S1465-3249(21)00786-6 [pii];10.1016/j.jcyt.202...   \n",
       "1  10.4103/indianjpsychiatry.indianjpsychiatry_31...   \n",
       "2  10.1016/j.resplu.2022.100205 [doi];S2666-5204(...   \n",
       "3  S2352-3964(22)00292-4 [pii];10.1016/j.ebiom.20...   \n",
       "4                         10.1155/2022/6946860 [doi]   \n",
       "\n",
       "                                                  AU  \\\n",
       "0  Halpenny M;William N;Elmoazzen H;Giulivi A;Mar...   \n",
       "1                         Das S;Mukherjee S;Pathak K   \n",
       "2  Munot S;Rugel EJ;Von Huben A;Marschner S;Redfe...   \n",
       "3  Huang J;Law E;Karaman I;McCrickerd K;Fogel A;C...   \n",
       "4                               Deliwala U;Sethia SJ   \n",
       "\n",
       "                                           AUID  \\\n",
       "0                                           NaN   \n",
       "1                                           NaN   \n",
       "2                                           NaN   \n",
       "3                                           NaN   \n",
       "4  ORCID: https://orcid.org/0000-0003-1226-4380   \n",
       "\n",
       "                                                 FAU  \\\n",
       "0  Halpenny, Michael;William, Nishaka;Elmoazzen, ...   \n",
       "1   Das, Suhasini;Mukherjee, Sukriti;Pathak, Kangkan   \n",
       "2  Munot, Sonali;Rugel, Emily J;Von Huben, Amy;Ma...   \n",
       "3  Huang, Jian;Law, Evelyn;Karaman, Ibrahim;McCri...   \n",
       "4                Deliwala, Ujjval;Sethia, Sumit Jain   \n",
       "\n",
       "  Does COIS include a conflict? (0=no conflict, 1=conflict)  \\\n",
       "0                                                0.0          \n",
       "1                                                0.0          \n",
       "2                                                0.0          \n",
       "3                                                0.0          \n",
       "4                                                0.0          \n",
       "\n",
       "                                                COIS         DEP  \\\n",
       "0  Declaration of Competing Interest The authors ...  20211028.0   \n",
       "1                There are no conflicts of interest.  20220121.0   \n",
       "2  The authors declare that they have no known co...  20220206.0   \n",
       "3  Declaration of interests The authors disclose ...  20220618.0   \n",
       "4  The authors declare no conflict of interest fo...  20220516.0   \n",
       "\n",
       "                    DP                            JT         PMC  \n",
       "0  2022-03-01 00:00:00                   Cytotherapy         NaN  \n",
       "1         2022 Jan-Feb  Indian journal of psychiatry  PMC8992757  \n",
       "2  2022-03-01 00:00:00            Resuscitation plus  PMC8844775  \n",
       "3  2022-07-01 00:00:00                  EBioMedicine  PMC9214799  \n",
       "4               2022.0   Case reports in orthopedics  PMC9126717  "
      ]
     },
     "execution_count": 45,
     "metadata": {},
     "output_type": "execute_result"
    }
   ],
   "source": [
    "df_all.head()"
   ]
  },
  {
   "cell_type": "code",
   "execution_count": 46,
   "id": "f572c40d",
   "metadata": {},
   "outputs": [],
   "source": [
    "df_all.dropna(inplace=True)"
   ]
  },
  {
   "cell_type": "code",
   "execution_count": 47,
   "id": "815e2654",
   "metadata": {},
   "outputs": [
    {
     "data": {
      "text/plain": [
       "PMID                                                         0\n",
       "TI                                                           0\n",
       "AB                                                           0\n",
       "AD                                                           0\n",
       "AID                                                          0\n",
       "AU                                                           0\n",
       "AUID                                                         0\n",
       "FAU                                                          0\n",
       "Does COIS include a conflict? (0=no conflict, 1=conflict)    0\n",
       "COIS                                                         0\n",
       "DEP                                                          0\n",
       "DP                                                           0\n",
       "JT                                                           0\n",
       "PMC                                                          0\n",
       "dtype: int64"
      ]
     },
     "execution_count": 47,
     "metadata": {},
     "output_type": "execute_result"
    }
   ],
   "source": [
    "df_all.isnull().sum()"
   ]
  },
  {
   "cell_type": "markdown",
   "id": "68aa9860",
   "metadata": {},
   "source": [
    "## Accessing the PMID of Conflicting Authors"
   ]
  },
  {
   "cell_type": "code",
   "execution_count": 50,
   "id": "2ca1e495",
   "metadata": {},
   "outputs": [],
   "source": [
    "lst = []\n",
    "\n",
    "i = 0\n",
    "\n",
    "for index, row in df_all.iterrows():\n",
    "    if row['Does COIS include a conflict? (0=no conflict, 1=conflict)'] == 1.0:\n",
    "        lst.append(int(row.PMID))    "
   ]
  },
  {
   "cell_type": "code",
   "execution_count": 51,
   "id": "23a0c266",
   "metadata": {},
   "outputs": [
    {
     "data": {
      "text/plain": [
       "[35154389, 35960745, 35089920, 35154365, 35113854]"
      ]
     },
     "execution_count": 51,
     "metadata": {},
     "output_type": "execute_result"
    }
   ],
   "source": [
    "lst"
   ]
  },
  {
   "cell_type": "code",
   "execution_count": 9,
   "id": "f8a06333",
   "metadata": {},
   "outputs": [],
   "source": [
    "total = pd.read_csv('../Data Science Discovery/all-coi-recs-combined.csv')"
   ]
  },
  {
   "cell_type": "markdown",
   "id": "668a67fa",
   "metadata": {},
   "source": [
    "## Supporting Functions"
   ]
  },
  {
   "cell_type": "code",
   "execution_count": 10,
   "id": "260e2cf8",
   "metadata": {},
   "outputs": [],
   "source": [
    "string = \"ET declares the following interests: Co-Owner and Chief Scientific Officer for CenterMom, Inc. She has stock ownership in this company. Consultant and Director  of Maternity Care for Stork Club, Inc. She receives payment for her work with Stork Club. JS, MC, MB, JL, JW, and AC have nothing to disclose.\"\n",
    "initials  = \"ET\"\n",
    "name = \"Tilden, Ellen L\""
   ]
  },
  {
   "cell_type": "code",
   "execution_count": 11,
   "id": "9bc91752",
   "metadata": {},
   "outputs": [],
   "source": [
    "def getName(name):\n",
    "    lname, fname = name.split(\", \")\n",
    "    return fname+\" \"+lname"
   ]
  },
  {
   "cell_type": "code",
   "execution_count": 12,
   "id": "24af9271",
   "metadata": {},
   "outputs": [
    {
     "data": {
      "text/plain": [
       "'Ellen L Tilden'"
      ]
     },
     "execution_count": 12,
     "metadata": {},
     "output_type": "execute_result"
    }
   ],
   "source": [
    "getName(name)"
   ]
  },
  {
   "cell_type": "code",
   "execution_count": 13,
   "id": "37a2d558",
   "metadata": {},
   "outputs": [],
   "source": [
    "def getInitials(name):\n",
    "    name = getName(name)\n",
    "    res = []\n",
    "    initials = []\n",
    "    if(len(name) == 0):\n",
    "        return\n",
    "    initials.append(name[0].upper())\n",
    "    for i in range(1, len(name) - 1):\n",
    "        if (name[i] == ' '):\n",
    "            initials.append(name[i + 1].upper())\n",
    "    if len(initials) == 2:\n",
    "        res.append(\"\".join(initials))\n",
    "    elif len(initials) == 3:\n",
    "        res.append(\"\".join(initials))\n",
    "        res.append(initials[0] + initials[2])\n",
    "    return res"
   ]
  },
  {
   "cell_type": "code",
   "execution_count": 14,
   "id": "dc4a0292",
   "metadata": {},
   "outputs": [
    {
     "data": {
      "text/plain": [
       "['ELT', 'ET']"
      ]
     },
     "execution_count": 14,
     "metadata": {},
     "output_type": "execute_result"
    }
   ],
   "source": [
    "getInitials(name)"
   ]
  },
  {
   "cell_type": "code",
   "execution_count": 15,
   "id": "9256db4e",
   "metadata": {},
   "outputs": [
    {
     "data": {
      "text/plain": [
       "['AA']"
      ]
     },
     "execution_count": 15,
     "metadata": {},
     "output_type": "execute_result"
    }
   ],
   "source": [
    "getInitials(\"Ariyur, Adi\")"
   ]
  },
  {
   "cell_type": "markdown",
   "id": "73a488b3",
   "metadata": {},
   "source": [
    "#### Limitations: \n",
    "Only Works for Two and Three word names!"
   ]
  },
  {
   "cell_type": "markdown",
   "id": "94f903eb",
   "metadata": {},
   "source": [
    "## Function Definition"
   ]
  },
  {
   "cell_type": "code",
   "execution_count": 20,
   "id": "b9a432d1",
   "metadata": {},
   "outputs": [],
   "source": [
    "def replacementFunction(string, name):\n",
    "    initials = getInitials(name)\n",
    "    for initial in initials:\n",
    "        if initial in string:\n",
    "            print(string.replace(initial, getName(name)))"
   ]
  },
  {
   "cell_type": "code",
   "execution_count": 21,
   "id": "a3f84ef2",
   "metadata": {},
   "outputs": [
    {
     "name": "stdout",
     "output_type": "stream",
     "text": [
      "Ellen L Tilden declares the following interests: Co-Owner and Chief Scientific Officer for CenterMom, Inc. She has stock ownership in this company. Consultant and Director  of Maternity Care for Stork Club, Inc. She receives payment for her work with Stork Club. JS, MC, MB, JL, JW, and AC have nothing to disclose.\n"
     ]
    }
   ],
   "source": [
    "replacementFunction(string, name)"
   ]
  },
  {
   "cell_type": "markdown",
   "id": "7dac7121",
   "metadata": {},
   "source": [
    "## Accessing the PMIDs of the Rows where there is a COIS"
   ]
  },
  {
   "cell_type": "code",
   "execution_count": 56,
   "id": "e5e3e09d",
   "metadata": {},
   "outputs": [
    {
     "name": "stdout",
     "output_type": "stream",
     "text": [
      "Perrig K;Krupka N;Jordi SBU;Rossel JB;Biedermann L;Greuter T;Schreiner P;Vavricka SR;Juillerat P;Burri E;Zimmermann D;Maillard MH;Sulz MC;Brand S;Rogler G;Misselwitz B\n",
      "Herve A;Domaizon I;Baudoin JM;Dejean T;Gibert P;Jean P;Peroux T;Raymond JC;Valentini A;Vautier M;Logez M\n",
      "Gentile I;Schiano Moriello N\n",
      "Martin DS;McNeil M;Brew-Graves C;Filipe H;O'Driscoll R;Stevens JL;Burnish R;Cumpstey AF;Williams NR;Mythen MG;Grocott MP\n",
      "Li B;Kamarck ML;Peng Q;Lim FL;Keller A;Smeets MAM;Mainland JD;Wang S\n"
     ]
    }
   ],
   "source": [
    "for ids in lst:\n",
    "    for index, row in df_all.iterrows():\n",
    "        if row.PMID == ids:\n",
    "            print(row.AU)"
   ]
  }
 ],
 "metadata": {
  "kernelspec": {
   "display_name": "Python 3 (ipykernel)",
   "language": "python",
   "name": "python3"
  },
  "language_info": {
   "codemirror_mode": {
    "name": "ipython",
    "version": 3
   },
   "file_extension": ".py",
   "mimetype": "text/x-python",
   "name": "python",
   "nbconvert_exporter": "python",
   "pygments_lexer": "ipython3",
   "version": "3.9.12"
  }
 },
 "nbformat": 4,
 "nbformat_minor": 5
}
